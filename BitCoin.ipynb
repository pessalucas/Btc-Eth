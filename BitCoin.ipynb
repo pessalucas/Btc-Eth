{
 "cells": [
  {
   "cell_type": "code",
   "execution_count": 3,
   "metadata": {},
   "outputs": [
    {
     "name": "stdout",
     "output_type": "stream",
     "text": [
      "Requirement already satisfied: pymysql in c:\\users\\lenovo\\anaconda3\\lib\\site-packages (0.10.1)\n",
      "Requirement already satisfied: mysql-connector-python in c:\\users\\lenovo\\anaconda3\\lib\\site-packages (8.0.22)\n",
      "Requirement already satisfied: protobuf>=3.0.0 in c:\\users\\lenovo\\anaconda3\\lib\\site-packages (from mysql-connector-python) (3.14.0)\n",
      "Requirement already satisfied: six>=1.9 in c:\\users\\lenovo\\anaconda3\\lib\\site-packages (from protobuf>=3.0.0->mysql-connector-python) (1.14.0)\n"
     ]
    }
   ],
   "source": [
    "import os\n",
    "import pandas as pd\n",
    "import sqlalchemy as sql\n",
    "import numpy as np\n",
    "\n",
    "!pip install pymysql\n",
    "import pymysql\n",
    "pymysql.install_as_MySQLdb()\n",
    "\n",
    "!pip install mysql-connector-python\n",
    "import mysql.connector\n",
    "\n",
    "import matplotlib.pyplot as plt\n",
    "import seaborn as sns\n",
    "import pandas as pd\n",
    "%matplotlib inline"
   ]
  },
  {
   "cell_type": "code",
   "execution_count": 4,
   "metadata": {},
   "outputs": [
    {
     "data": {
      "text/html": [
       "<div>\n",
       "<style scoped>\n",
       "    .dataframe tbody tr th:only-of-type {\n",
       "        vertical-align: middle;\n",
       "    }\n",
       "\n",
       "    .dataframe tbody tr th {\n",
       "        vertical-align: top;\n",
       "    }\n",
       "\n",
       "    .dataframe thead th {\n",
       "        text-align: right;\n",
       "    }\n",
       "</style>\n",
       "<table border=\"1\" class=\"dataframe\">\n",
       "  <thead>\n",
       "    <tr style=\"text-align: right;\">\n",
       "      <th></th>\n",
       "      <th>date</th>\n",
       "      <th>weighted</th>\n",
       "      <th>close</th>\n",
       "      <th>high</th>\n",
       "      <th>low</th>\n",
       "      <th>open</th>\n",
       "      <th>volume</th>\n",
       "    </tr>\n",
       "  </thead>\n",
       "  <tbody>\n",
       "    <tr>\n",
       "      <th>0</th>\n",
       "      <td>12/23/2019 21:12</td>\n",
       "      <td>6603.36</td>\n",
       "      <td>6554.79</td>\n",
       "      <td>6716.02</td>\n",
       "      <td>6491.60</td>\n",
       "      <td>6604.63</td>\n",
       "      <td>4.640451e+07</td>\n",
       "    </tr>\n",
       "    <tr>\n",
       "      <th>1</th>\n",
       "      <td>12/24/2019 21:12</td>\n",
       "      <td>6488.14</td>\n",
       "      <td>6488.91</td>\n",
       "      <td>6563.91</td>\n",
       "      <td>6426.00</td>\n",
       "      <td>6554.79</td>\n",
       "      <td>4.543974e+07</td>\n",
       "    </tr>\n",
       "    <tr>\n",
       "      <th>2</th>\n",
       "      <td>12/25/2019 21:12</td>\n",
       "      <td>6539.37</td>\n",
       "      <td>6491.64</td>\n",
       "      <td>6694.79</td>\n",
       "      <td>6452.08</td>\n",
       "      <td>6488.91</td>\n",
       "      <td>3.470634e+07</td>\n",
       "    </tr>\n",
       "    <tr>\n",
       "      <th>3</th>\n",
       "      <td>12/26/2019 21:12</td>\n",
       "      <td>6463.00</td>\n",
       "      <td>6490.83</td>\n",
       "      <td>6523.22</td>\n",
       "      <td>6356.73</td>\n",
       "      <td>6491.64</td>\n",
       "      <td>4.582898e+07</td>\n",
       "    </tr>\n",
       "    <tr>\n",
       "      <th>4</th>\n",
       "      <td>12/27/2019 21:12</td>\n",
       "      <td>6541.42</td>\n",
       "      <td>6541.00</td>\n",
       "      <td>6574.91</td>\n",
       "      <td>6483.53</td>\n",
       "      <td>6490.83</td>\n",
       "      <td>2.492812e+07</td>\n",
       "    </tr>\n",
       "    <tr>\n",
       "      <th>...</th>\n",
       "      <td>...</td>\n",
       "      <td>...</td>\n",
       "      <td>...</td>\n",
       "      <td>...</td>\n",
       "      <td>...</td>\n",
       "      <td>...</td>\n",
       "      <td>...</td>\n",
       "    </tr>\n",
       "    <tr>\n",
       "      <th>361</th>\n",
       "      <td>12/18/2020 21:12</td>\n",
       "      <td>19193.44</td>\n",
       "      <td>19400.32</td>\n",
       "      <td>19625.93</td>\n",
       "      <td>18619.69</td>\n",
       "      <td>18865.58</td>\n",
       "      <td>2.635651e+08</td>\n",
       "    </tr>\n",
       "    <tr>\n",
       "      <th>362</th>\n",
       "      <td>12/19/2020 21:12</td>\n",
       "      <td>19265.95</td>\n",
       "      <td>19201.67</td>\n",
       "      <td>19757.23</td>\n",
       "      <td>18811.92</td>\n",
       "      <td>19400.32</td>\n",
       "      <td>2.279110e+08</td>\n",
       "    </tr>\n",
       "    <tr>\n",
       "      <th>363</th>\n",
       "      <td>12/20/2020 21:12</td>\n",
       "      <td>18854.76</td>\n",
       "      <td>18593.60</td>\n",
       "      <td>19735.32</td>\n",
       "      <td>18129.03</td>\n",
       "      <td>19201.67</td>\n",
       "      <td>4.193062e+08</td>\n",
       "    </tr>\n",
       "    <tr>\n",
       "      <th>364</th>\n",
       "      <td>12/21/2020 21:12</td>\n",
       "      <td>18952.65</td>\n",
       "      <td>19531.25</td>\n",
       "      <td>19540.17</td>\n",
       "      <td>18350.14</td>\n",
       "      <td>18593.60</td>\n",
       "      <td>2.697469e+08</td>\n",
       "    </tr>\n",
       "    <tr>\n",
       "      <th>365</th>\n",
       "      <td>12/22/2020 21:12</td>\n",
       "      <td>19299.48</td>\n",
       "      <td>19436.22</td>\n",
       "      <td>19784.46</td>\n",
       "      <td>18732.09</td>\n",
       "      <td>19531.25</td>\n",
       "      <td>2.198788e+08</td>\n",
       "    </tr>\n",
       "  </tbody>\n",
       "</table>\n",
       "<p>366 rows × 7 columns</p>\n",
       "</div>"
      ],
      "text/plain": [
       "                 date  weighted     close      high       low      open  \\\n",
       "0    12/23/2019 21:12   6603.36   6554.79   6716.02   6491.60   6604.63   \n",
       "1    12/24/2019 21:12   6488.14   6488.91   6563.91   6426.00   6554.79   \n",
       "2    12/25/2019 21:12   6539.37   6491.64   6694.79   6452.08   6488.91   \n",
       "3    12/26/2019 21:12   6463.00   6490.83   6523.22   6356.73   6491.64   \n",
       "4    12/27/2019 21:12   6541.42   6541.00   6574.91   6483.53   6490.83   \n",
       "..                ...       ...       ...       ...       ...       ...   \n",
       "361  12/18/2020 21:12  19193.44  19400.32  19625.93  18619.69  18865.58   \n",
       "362  12/19/2020 21:12  19265.95  19201.67  19757.23  18811.92  19400.32   \n",
       "363  12/20/2020 21:12  18854.76  18593.60  19735.32  18129.03  19201.67   \n",
       "364  12/21/2020 21:12  18952.65  19531.25  19540.17  18350.14  18593.60   \n",
       "365  12/22/2020 21:12  19299.48  19436.22  19784.46  18732.09  19531.25   \n",
       "\n",
       "           volume  \n",
       "0    4.640451e+07  \n",
       "1    4.543974e+07  \n",
       "2    3.470634e+07  \n",
       "3    4.582898e+07  \n",
       "4    2.492812e+07  \n",
       "..            ...  \n",
       "361  2.635651e+08  \n",
       "362  2.279110e+08  \n",
       "363  4.193062e+08  \n",
       "364  2.697469e+08  \n",
       "365  2.198788e+08  \n",
       "\n",
       "[366 rows x 7 columns]"
      ]
     },
     "execution_count": 4,
     "metadata": {},
     "output_type": "execute_result"
    }
   ],
   "source": [
    "df_prices = pd.read_csv('BitCoin.csv')  \n",
    "df_prices"
   ]
  },
  {
   "cell_type": "code",
   "execution_count": 5,
   "metadata": {},
   "outputs": [],
   "source": [
    "pd.options.display.float_format = '{:.1f}'.format"
   ]
  },
  {
   "cell_type": "code",
   "execution_count": 6,
   "metadata": {},
   "outputs": [],
   "source": [
    "df_prices = df_prices.set_index(['date'])"
   ]
  },
  {
   "cell_type": "code",
   "execution_count": 7,
   "metadata": {},
   "outputs": [
    {
     "data": {
      "image/png": "[encoded data removed]",
      "text/plain": [
       "<Figure size 432x288 with 1 Axes>"
      ]
     },
     "metadata": {
      "needs_background": "light"
     },
     "output_type": "display_data"
    }
   ],
   "source": [
    "# Como vario el precio a lo largo de la historia?\n",
    "df_prices['close'].plot()\n",
    "plt.xticks(rotation='45')\n",
    "plt.rcParams[\"figure.figsize\"] = (5,5)\n",
    "plt.show()"
   ]
  },
  {
   "cell_type": "code",
   "execution_count": 8,
   "metadata": {},
   "outputs": [],
   "source": [
    "df_prices['var_day'] = df_prices['high'] - df_prices['low']"
   ]
  },
  {
   "cell_type": "code",
   "execution_count": 9,
   "metadata": {},
   "outputs": [
    {
     "data": {
      "text/plain": [
       "date\n",
       "12/23/2019 21:12    224.4\n",
       "12/24/2019 21:12    137.9\n",
       "12/25/2019 21:12    242.7\n",
       "12/26/2019 21:12    166.5\n",
       "12/27/2019 21:12     91.4\n",
       "                    ...  \n",
       "12/18/2020 21:12   1006.2\n",
       "12/19/2020 21:12    945.3\n",
       "12/20/2020 21:12   1606.3\n",
       "12/21/2020 21:12   1190.0\n",
       "12/22/2020 21:12   1052.4\n",
       "Name: var_day, Length: 366, dtype: float64"
      ]
     },
     "execution_count": 9,
     "metadata": {},
     "output_type": "execute_result"
    }
   ],
   "source": [
    "df_prices['var_day']"
   ]
  },
  {
   "cell_type": "code",
   "execution_count": 10,
   "metadata": {},
   "outputs": [
    {
     "data": {
      "text/plain": [
       "count    366.0\n",
       "mean     421.2\n",
       "std      349.7\n",
       "min       64.0\n",
       "25%      197.6\n",
       "50%      320.3\n",
       "75%      533.5\n",
       "max     2838.1\n",
       "Name: var_day, dtype: float64"
      ]
     },
     "execution_count": 10,
     "metadata": {},
     "output_type": "execute_result"
    }
   ],
   "source": [
    "df_prices['var_day'].describe()"
   ]
  },
  {
   "cell_type": "code",
   "execution_count": 11,
   "metadata": {},
   "outputs": [],
   "source": [
    "df_prices['var_day/val_tot'] = (df_prices['var_day'] / df_prices['open'])*100"
   ]
  },
  {
   "cell_type": "code",
   "execution_count": 12,
   "metadata": {},
   "outputs": [
    {
     "data": {
      "text/plain": [
       "count   366.0\n",
       "mean      4.6\n",
       "std       4.2\n",
       "min       0.8\n",
       "25%       2.4\n",
       "50%       3.6\n",
       "75%       5.5\n",
       "max      42.5\n",
       "Name: var_day/val_tot, dtype: float64"
      ]
     },
     "execution_count": 12,
     "metadata": {},
     "output_type": "execute_result"
    }
   ],
   "source": [
    "# Varia en proemdio un 4,6% diario. (Analisis intra dia)\n",
    "df_prices['var_day/val_tot'].describe()"
   ]
  },
  {
   "cell_type": "code",
   "execution_count": 13,
   "metadata": {},
   "outputs": [],
   "source": [
    "# Cuanto mas puede llegar a valer en diciembre del 2021?\n",
    "\n",
    "def estimate_b0_b1(x, y):\n",
    "    n = np.size(x)\n",
    "    #obtenemos los promedios de X y de Y\n",
    "    m_x, m_y = np.mean(x), np.mean(y)\n",
    "\n",
    "    #Calcular sumatoria de XY y mi sumatoria de XX\n",
    "    Sumatoria_xy = np.sum((x-m_x)*(y-m_y))\n",
    "    Sumatoria_xx = np.sum(x*(x-m_x))\n",
    "\n",
    "    #coeficientes de regresion\n",
    "    b_1 = Sumatoria_xy / Sumatoria_xx\n",
    "    b_0 = m_y - b_1*m_x\n",
    "\n",
    "    return(b_0, b_1)\n",
    "\n",
    "def plot_regression(x, y, b):\n",
    "    plt.scatter(x, y, color = \"g\", marker = \"o\", s=30)\n",
    "\n",
    "    y_pred = b[0] + b[1]*x\n",
    "    plt.plot(x, y_pred, color = \"b\")\n",
    "\n",
    "    #etiquetado\n",
    "    plt.xlabel('x-Independiente')\n",
    "    plt.ylabel('y-Dependiente')\n",
    "\n",
    "    plt.show()"
   ]
  },
  {
   "cell_type": "code",
   "execution_count": 14,
   "metadata": {},
   "outputs": [
    {
     "name": "stdout",
     "output_type": "stream",
     "text": [
      "Los valores b0 = 5551.218924971337, b1 =20.590062331918418\n"
     ]
    },
    {
     "data": {
      "image/png": "[encoded data removed]",
      "text/plain": [
       "<Figure size 360x360 with 1 Axes>"
      ]
     },
     "metadata": {
      "needs_background": "light"
     },
     "output_type": "display_data"
    }
   ],
   "source": [
    "df_prices = df_prices.reset_index()\n",
    "df_prices_ids = df_prices.index.to_numpy()\n",
    "df_prices_close = df_prices['close'].to_numpy()\n",
    "\n",
    "def main():\n",
    "    #DATASET\n",
    "    x = df_prices_ids\n",
    "    y = df_prices_close\n",
    "\n",
    "    #Obtenemos b1 y b2\n",
    "    b = estimate_b0_b1(x, y)\n",
    "    print(\"Los valores b0 = {}, b1 ={}\".format(b[0], b[1]))\n",
    "\n",
    "    #Graficamos nuestra linea de regresion\n",
    "    plot_regression(x, y, b)\n",
    "\n",
    "if __name__== \"__main__\":\n",
    "    main()"
   ]
  },
  {
   "cell_type": "code",
   "execution_count": 15,
   "metadata": {},
   "outputs": [
    {
     "data": {
      "text/plain": [
       "20581.96442727178"
      ]
     },
     "execution_count": 15,
     "metadata": {},
     "output_type": "execute_result"
    }
   ],
   "source": [
    "# Predigo el valor del ano que viene\n",
    "5551.218924971337 + 20.590062331918418*365*2"
   ]
  },
  {
   "cell_type": "code",
   "execution_count": 16,
   "metadata": {},
   "outputs": [
    {
     "data": {
      "text/plain": [
       "36.51436080217933"
      ]
     },
     "execution_count": 16,
     "metadata": {},
     "output_type": "execute_result"
    }
   ],
   "source": [
    "# Cual es la ganancia estimada?\n",
    "(((5551.218924971337 + 20.590062331918418*365*2) - (5551.218924971337 + 20.590062331918418*365)) / (5551.218924971337 + 20.590062331918418*365*2))*100"
   ]
  },
  {
   "cell_type": "code",
   "execution_count": 17,
   "metadata": {},
   "outputs": [
    {
     "data": {
      "text/plain": [
       "<matplotlib.axes._subplots.AxesSubplot at 0x1ba0f535648>"
      ]
     },
     "execution_count": 17,
     "metadata": {},
     "output_type": "execute_result"
    },
    {
     "data": {
      "image/png": "[encoded data removed]",
      "text/plain": [
       "<Figure size 360x360 with 2 Axes>"
      ]
     },
     "metadata": {
      "needs_background": "light"
     },
     "output_type": "display_data"
    }
   ],
   "source": [
    "sns.heatmap(df_prices.corr(), annot= True)"
   ]
  },
  {
   "cell_type": "code",
   "execution_count": 18,
   "metadata": {},
   "outputs": [
    {
     "data": {
      "text/html": [
       "<div>\n",
       "<style scoped>\n",
       "    .dataframe tbody tr th:only-of-type {\n",
       "        vertical-align: middle;\n",
       "    }\n",
       "\n",
       "    .dataframe tbody tr th {\n",
       "        vertical-align: top;\n",
       "    }\n",
       "\n",
       "    .dataframe thead th {\n",
       "        text-align: right;\n",
       "    }\n",
       "</style>\n",
       "<table border=\"1\" class=\"dataframe\">\n",
       "  <thead>\n",
       "    <tr style=\"text-align: right;\">\n",
       "      <th></th>\n",
       "      <th>weighted</th>\n",
       "      <th>close</th>\n",
       "      <th>high</th>\n",
       "      <th>low</th>\n",
       "      <th>open</th>\n",
       "      <th>volume</th>\n",
       "      <th>var_day</th>\n",
       "      <th>var_day/val_tot</th>\n",
       "    </tr>\n",
       "  </thead>\n",
       "  <tbody>\n",
       "    <tr>\n",
       "      <th>weighted</th>\n",
       "      <td>1.0</td>\n",
       "      <td>1.0</td>\n",
       "      <td>1.0</td>\n",
       "      <td>1.0</td>\n",
       "      <td>1.0</td>\n",
       "      <td>0.5</td>\n",
       "      <td>0.4</td>\n",
       "      <td>-0.1</td>\n",
       "    </tr>\n",
       "    <tr>\n",
       "      <th>close</th>\n",
       "      <td>1.0</td>\n",
       "      <td>1.0</td>\n",
       "      <td>1.0</td>\n",
       "      <td>1.0</td>\n",
       "      <td>1.0</td>\n",
       "      <td>0.5</td>\n",
       "      <td>0.4</td>\n",
       "      <td>-0.1</td>\n",
       "    </tr>\n",
       "    <tr>\n",
       "      <th>high</th>\n",
       "      <td>1.0</td>\n",
       "      <td>1.0</td>\n",
       "      <td>1.0</td>\n",
       "      <td>1.0</td>\n",
       "      <td>1.0</td>\n",
       "      <td>0.5</td>\n",
       "      <td>0.5</td>\n",
       "      <td>-0.0</td>\n",
       "    </tr>\n",
       "    <tr>\n",
       "      <th>low</th>\n",
       "      <td>1.0</td>\n",
       "      <td>1.0</td>\n",
       "      <td>1.0</td>\n",
       "      <td>1.0</td>\n",
       "      <td>1.0</td>\n",
       "      <td>0.4</td>\n",
       "      <td>0.4</td>\n",
       "      <td>-0.1</td>\n",
       "    </tr>\n",
       "    <tr>\n",
       "      <th>open</th>\n",
       "      <td>1.0</td>\n",
       "      <td>1.0</td>\n",
       "      <td>1.0</td>\n",
       "      <td>1.0</td>\n",
       "      <td>1.0</td>\n",
       "      <td>0.5</td>\n",
       "      <td>0.4</td>\n",
       "      <td>-0.1</td>\n",
       "    </tr>\n",
       "    <tr>\n",
       "      <th>volume</th>\n",
       "      <td>0.5</td>\n",
       "      <td>0.5</td>\n",
       "      <td>0.5</td>\n",
       "      <td>0.4</td>\n",
       "      <td>0.5</td>\n",
       "      <td>1.0</td>\n",
       "      <td>0.8</td>\n",
       "      <td>0.6</td>\n",
       "    </tr>\n",
       "    <tr>\n",
       "      <th>var_day</th>\n",
       "      <td>0.4</td>\n",
       "      <td>0.4</td>\n",
       "      <td>0.5</td>\n",
       "      <td>0.4</td>\n",
       "      <td>0.4</td>\n",
       "      <td>0.8</td>\n",
       "      <td>1.0</td>\n",
       "      <td>0.8</td>\n",
       "    </tr>\n",
       "    <tr>\n",
       "      <th>var_day/val_tot</th>\n",
       "      <td>-0.1</td>\n",
       "      <td>-0.1</td>\n",
       "      <td>-0.0</td>\n",
       "      <td>-0.1</td>\n",
       "      <td>-0.1</td>\n",
       "      <td>0.6</td>\n",
       "      <td>0.8</td>\n",
       "      <td>1.0</td>\n",
       "    </tr>\n",
       "  </tbody>\n",
       "</table>\n",
       "</div>"
      ],
      "text/plain": [
       "                 weighted  close  high  low  open  volume  var_day  \\\n",
       "weighted              1.0    1.0   1.0  1.0   1.0     0.5      0.4   \n",
       "close                 1.0    1.0   1.0  1.0   1.0     0.5      0.4   \n",
       "high                  1.0    1.0   1.0  1.0   1.0     0.5      0.5   \n",
       "low                   1.0    1.0   1.0  1.0   1.0     0.4      0.4   \n",
       "open                  1.0    1.0   1.0  1.0   1.0     0.5      0.4   \n",
       "volume                0.5    0.5   0.5  0.4   0.5     1.0      0.8   \n",
       "var_day               0.4    0.4   0.5  0.4   0.4     0.8      1.0   \n",
       "var_day/val_tot      -0.1   -0.1  -0.0 -0.1  -0.1     0.6      0.8   \n",
       "\n",
       "                 var_day/val_tot  \n",
       "weighted                    -0.1  \n",
       "close                       -0.1  \n",
       "high                        -0.0  \n",
       "low                         -0.1  \n",
       "open                        -0.1  \n",
       "volume                       0.6  \n",
       "var_day                      0.8  \n",
       "var_day/val_tot              1.0  "
      ]
     },
     "execution_count": 18,
     "metadata": {},
     "output_type": "execute_result"
    }
   ],
   "source": [
    "df_prices.corr(method ='pearson') \n"
   ]
  },
  {
   "cell_type": "code",
   "execution_count": 19,
   "metadata": {},
   "outputs": [
    {
     "data": {
      "text/plain": [
       "0.84"
      ]
     },
     "execution_count": 19,
     "metadata": {},
     "output_type": "execute_result"
    }
   ],
   "source": [
    "#Existe una relacion directa entre el volumen de movimiento del mercado la variacion del precio.\n",
    "0.84 \n"
   ]
  },
  {
   "cell_type": "code",
   "execution_count": 20,
   "metadata": {},
   "outputs": [],
   "source": [
    "# Como se manejo el volumen de mercado en el tiempo?\n",
    "df_prices = df_prices.set_index(['date'])"
   ]
  },
  {
   "cell_type": "code",
   "execution_count": 21,
   "metadata": {},
   "outputs": [
    {
     "data": {
      "image/png": "[encoded data removed]",
      "text/plain": [
       "<Figure size 360x360 with 1 Axes>"
      ]
     },
     "metadata": {
      "needs_background": "light"
     },
     "output_type": "display_data"
    }
   ],
   "source": [
    "df_prices['volume'].plot()\n",
    "plt.xticks(rotation='45')\n",
    "plt.rcParams[\"figure.figsize\"] = (10,10)\n",
    "plt.show()"
   ]
  },
  {
   "cell_type": "code",
   "execution_count": 22,
   "metadata": {},
   "outputs": [
    {
     "name": "stdout",
     "output_type": "stream",
     "text": [
      "Los valores b0 = 65631649.10863969, b1 =253589.01192855564\n"
     ]
    },
    {
     "data": {
      "image/png": "[encoded data removed]",
      "text/plain": [
       "<Figure size 720x720 with 1 Axes>"
      ]
     },
     "metadata": {
      "needs_background": "light"
     },
     "output_type": "display_data"
    }
   ],
   "source": [
    "df_prices = df_prices.reset_index()\n",
    "df_prices_ids = df_prices.index.to_numpy()\n",
    "df_prices_close = df_prices['volume'].to_numpy()\n",
    "\n",
    "if __name__== \"__main__\":\n",
    "    main()"
   ]
  },
  {
   "cell_type": "code",
   "execution_count": 35,
   "metadata": {},
   "outputs": [],
   "source": [
    "# Conociendo apertura cierre, cual es mi ganancia estimada que contemple el error std promedio.\n",
    "df_prices['var_std'] = ((( df_prices['close'] - df_prices['open'] ) / df_prices['open'])*100 ) + 36.51436080217933"
   ]
  },
  {
   "cell_type": "code",
   "execution_count": 36,
   "metadata": {},
   "outputs": [
    {
     "data": {
      "text/html": [
       "<div>\n",
       "<style scoped>\n",
       "    .dataframe tbody tr th:only-of-type {\n",
       "        vertical-align: middle;\n",
       "    }\n",
       "\n",
       "    .dataframe tbody tr th {\n",
       "        vertical-align: top;\n",
       "    }\n",
       "\n",
       "    .dataframe thead th {\n",
       "        text-align: right;\n",
       "    }\n",
       "</style>\n",
       "<table border=\"1\" class=\"dataframe\">\n",
       "  <thead>\n",
       "    <tr style=\"text-align: right;\">\n",
       "      <th></th>\n",
       "      <th>date</th>\n",
       "      <th>weighted</th>\n",
       "      <th>close</th>\n",
       "      <th>high</th>\n",
       "      <th>low</th>\n",
       "      <th>open</th>\n",
       "      <th>volume</th>\n",
       "      <th>var_day</th>\n",
       "      <th>var_day/val_tot</th>\n",
       "      <th>var_std</th>\n",
       "    </tr>\n",
       "  </thead>\n",
       "  <tbody>\n",
       "    <tr>\n",
       "      <th>0</th>\n",
       "      <td>12/23/2019 21:12</td>\n",
       "      <td>6603.4</td>\n",
       "      <td>6554.8</td>\n",
       "      <td>6716.0</td>\n",
       "      <td>6491.6</td>\n",
       "      <td>6604.6</td>\n",
       "      <td>46404506.6</td>\n",
       "      <td>224.4</td>\n",
       "      <td>3.4</td>\n",
       "      <td>35.8</td>\n",
       "    </tr>\n",
       "    <tr>\n",
       "      <th>1</th>\n",
       "      <td>12/24/2019 21:12</td>\n",
       "      <td>6488.1</td>\n",
       "      <td>6488.9</td>\n",
       "      <td>6563.9</td>\n",
       "      <td>6426.0</td>\n",
       "      <td>6554.8</td>\n",
       "      <td>45439743.6</td>\n",
       "      <td>137.9</td>\n",
       "      <td>2.1</td>\n",
       "      <td>35.5</td>\n",
       "    </tr>\n",
       "    <tr>\n",
       "      <th>2</th>\n",
       "      <td>12/25/2019 21:12</td>\n",
       "      <td>6539.4</td>\n",
       "      <td>6491.6</td>\n",
       "      <td>6694.8</td>\n",
       "      <td>6452.1</td>\n",
       "      <td>6488.9</td>\n",
       "      <td>34706342.2</td>\n",
       "      <td>242.7</td>\n",
       "      <td>3.7</td>\n",
       "      <td>36.6</td>\n",
       "    </tr>\n",
       "    <tr>\n",
       "      <th>3</th>\n",
       "      <td>12/26/2019 21:12</td>\n",
       "      <td>6463.0</td>\n",
       "      <td>6490.8</td>\n",
       "      <td>6523.2</td>\n",
       "      <td>6356.7</td>\n",
       "      <td>6491.6</td>\n",
       "      <td>45828981.8</td>\n",
       "      <td>166.5</td>\n",
       "      <td>2.6</td>\n",
       "      <td>36.5</td>\n",
       "    </tr>\n",
       "    <tr>\n",
       "      <th>4</th>\n",
       "      <td>12/27/2019 21:12</td>\n",
       "      <td>6541.4</td>\n",
       "      <td>6541.0</td>\n",
       "      <td>6574.9</td>\n",
       "      <td>6483.5</td>\n",
       "      <td>6490.8</td>\n",
       "      <td>24928117.2</td>\n",
       "      <td>91.4</td>\n",
       "      <td>1.4</td>\n",
       "      <td>37.3</td>\n",
       "    </tr>\n",
       "    <tr>\n",
       "      <th>...</th>\n",
       "      <td>...</td>\n",
       "      <td>...</td>\n",
       "      <td>...</td>\n",
       "      <td>...</td>\n",
       "      <td>...</td>\n",
       "      <td>...</td>\n",
       "      <td>...</td>\n",
       "      <td>...</td>\n",
       "      <td>...</td>\n",
       "      <td>...</td>\n",
       "    </tr>\n",
       "    <tr>\n",
       "      <th>95</th>\n",
       "      <td>3/27/2020 21:03</td>\n",
       "      <td>5604.7</td>\n",
       "      <td>5628.1</td>\n",
       "      <td>5746.3</td>\n",
       "      <td>5431.5</td>\n",
       "      <td>5746.3</td>\n",
       "      <td>100566392.6</td>\n",
       "      <td>314.8</td>\n",
       "      <td>5.5</td>\n",
       "      <td>34.5</td>\n",
       "    </tr>\n",
       "    <tr>\n",
       "      <th>96</th>\n",
       "      <td>3/28/2020 21:03</td>\n",
       "      <td>5453.0</td>\n",
       "      <td>5286.8</td>\n",
       "      <td>5649.2</td>\n",
       "      <td>5284.2</td>\n",
       "      <td>5628.1</td>\n",
       "      <td>65879604.8</td>\n",
       "      <td>365.1</td>\n",
       "      <td>6.5</td>\n",
       "      <td>30.4</td>\n",
       "    </tr>\n",
       "    <tr>\n",
       "      <th>97</th>\n",
       "      <td>3/29/2020 21:03</td>\n",
       "      <td>5731.8</td>\n",
       "      <td>5808.6</td>\n",
       "      <td>5990.2</td>\n",
       "      <td>5276.1</td>\n",
       "      <td>5286.8</td>\n",
       "      <td>117802191.8</td>\n",
       "      <td>714.0</td>\n",
       "      <td>13.5</td>\n",
       "      <td>46.4</td>\n",
       "    </tr>\n",
       "    <tr>\n",
       "      <th>98</th>\n",
       "      <td>3/30/2020 21:03</td>\n",
       "      <td>5895.3</td>\n",
       "      <td>5837.5</td>\n",
       "      <td>6074.0</td>\n",
       "      <td>5802.2</td>\n",
       "      <td>5808.6</td>\n",
       "      <td>72008998.2</td>\n",
       "      <td>271.7</td>\n",
       "      <td>4.7</td>\n",
       "      <td>37.0</td>\n",
       "    </tr>\n",
       "    <tr>\n",
       "      <th>99</th>\n",
       "      <td>3/31/2020 21:03</td>\n",
       "      <td>5791.6</td>\n",
       "      <td>6079.3</td>\n",
       "      <td>6116.4</td>\n",
       "      <td>5651.1</td>\n",
       "      <td>5837.5</td>\n",
       "      <td>82127599.0</td>\n",
       "      <td>465.4</td>\n",
       "      <td>8.0</td>\n",
       "      <td>40.7</td>\n",
       "    </tr>\n",
       "  </tbody>\n",
       "</table>\n",
       "<p>100 rows × 10 columns</p>\n",
       "</div>"
      ],
      "text/plain": [
       "                date  weighted  close   high    low   open      volume  \\\n",
       "0   12/23/2019 21:12    6603.4 6554.8 6716.0 6491.6 6604.6  46404506.6   \n",
       "1   12/24/2019 21:12    6488.1 6488.9 6563.9 6426.0 6554.8  45439743.6   \n",
       "2   12/25/2019 21:12    6539.4 6491.6 6694.8 6452.1 6488.9  34706342.2   \n",
       "3   12/26/2019 21:12    6463.0 6490.8 6523.2 6356.7 6491.6  45828981.8   \n",
       "4   12/27/2019 21:12    6541.4 6541.0 6574.9 6483.5 6490.8  24928117.2   \n",
       "..               ...       ...    ...    ...    ...    ...         ...   \n",
       "95   3/27/2020 21:03    5604.7 5628.1 5746.3 5431.5 5746.3 100566392.6   \n",
       "96   3/28/2020 21:03    5453.0 5286.8 5649.2 5284.2 5628.1  65879604.8   \n",
       "97   3/29/2020 21:03    5731.8 5808.6 5990.2 5276.1 5286.8 117802191.8   \n",
       "98   3/30/2020 21:03    5895.3 5837.5 6074.0 5802.2 5808.6  72008998.2   \n",
       "99   3/31/2020 21:03    5791.6 6079.3 6116.4 5651.1 5837.5  82127599.0   \n",
       "\n",
       "    var_day  var_day/val_tot  var_std  \n",
       "0     224.4              3.4     35.8  \n",
       "1     137.9              2.1     35.5  \n",
       "2     242.7              3.7     36.6  \n",
       "3     166.5              2.6     36.5  \n",
       "4      91.4              1.4     37.3  \n",
       "..      ...              ...      ...  \n",
       "95    314.8              5.5     34.5  \n",
       "96    365.1              6.5     30.4  \n",
       "97    714.0             13.5     46.4  \n",
       "98    271.7              4.7     37.0  \n",
       "99    465.4              8.0     40.7  \n",
       "\n",
       "[100 rows x 10 columns]"
      ]
     },
     "execution_count": 36,
     "metadata": {},
     "output_type": "execute_result"
    }
   ],
   "source": [
    "df_prices.head(100)"
   ]
  },
  {
   "cell_type": "code",
   "execution_count": 37,
   "metadata": {},
   "outputs": [
    {
     "data": {
      "image/png": "[encoded data removed]",
      "text/plain": [
       "<Figure size 720x720 with 1 Axes>"
      ]
     },
     "metadata": {
      "needs_background": "light"
     },
     "output_type": "display_data"
    }
   ],
   "source": [
    "#Con variacion de ganancia.\n",
    "ax = sns.boxplot(x=df_prices['var_std'])"
   ]
  },
  {
   "cell_type": "code",
   "execution_count": 38,
   "metadata": {},
   "outputs": [
    {
     "data": {
      "text/plain": [
       "count   366.0\n",
       "mean     36.9\n",
       "std       3.9\n",
       "min      -1.0\n",
       "25%      35.5\n",
       "50%      36.8\n",
       "75%      38.3\n",
       "max      54.2\n",
       "Name: var_std, dtype: float64"
      ]
     },
     "execution_count": 38,
     "metadata": {},
     "output_type": "execute_result"
    }
   ],
   "source": [
    "df_prices['var_std'].describe()"
   ]
  },
  {
   "cell_type": "code",
   "execution_count": 55,
   "metadata": {},
   "outputs": [
    {
     "data": {
      "image/png": "[encoded data removed]",
      "text/plain": [
       "<Figure size 720x720 with 1 Axes>"
      ]
     },
     "metadata": {
      "needs_background": "light"
     },
     "output_type": "display_data"
    }
   ],
   "source": [
    "# Comparo ambos en un grafico.\n",
    "df_prices_eth = pd.read_csv('Ether.csv')  \n",
    "df_prices_eth['var_std_eth'] = ((( df_prices_eth['close'] - df_prices_eth['open'] ) / df_prices_eth['open']) * 100 ) + 43.87728497223347\n",
    "df_prices_comparate = pd.DataFrame(columns=['price_eth', 'price_btc'])\n",
    "df_prices_comparate ['price_eth'] = df_prices_eth['var_std_eth']\n",
    "df_prices_comparate ['price_btc'] = df_prices['var_std']\n",
    "ax = df_prices_comparate.boxplot(column = ['price_eth' , 'price_btc'])"
   ]
  }
 ],
 "metadata": {
  "kernelspec": {
   "display_name": "Python 3",
   "language": "python",
   "name": "python3"
  },
  "language_info": {
   "codemirror_mode": {
    "name": "ipython",
    "version": 3
   },
   "file_extension": ".py",
   "mimetype": "text/x-python",
   "name": "python",
   "nbconvert_exporter": "python",
   "pygments_lexer": "ipython3",
   "version": "3.7.6"
  }
 },
 "nbformat": 4,
 "nbformat_minor": 4
}
